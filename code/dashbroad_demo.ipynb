{
 "cells": [
  {
   "cell_type": "code",
   "execution_count": null,
   "id": "known-manual",
   "metadata": {},
   "outputs": [],
   "source": [
    "import warnings\n",
    "import importlib\n",
    "import numpy as np\n",
    "import pandas as pd\n",
    "\n",
    "import plotly.express as px\n",
    "import plotly.graph_objects as go\n",
    "from plotly.subplots import make_subplots\n",
    "import dash_core_components as dcc\n",
    "import dash_html_components as html\n",
    "from jupyter_dash import JupyterDash\n",
    "from dash.dependencies import Input, Output\n",
    "\n",
    "import visualizers\n",
    "%load_ext autoreload\n",
    "%autoreload 2"
   ]
  },
  {
   "cell_type": "code",
   "execution_count": null,
   "id": "limiting-polish",
   "metadata": {},
   "outputs": [],
   "source": [
    "warnings.filterwarnings('ignore')"
   ]
  },
  {
   "cell_type": "markdown",
   "id": "sized-pound",
   "metadata": {},
   "source": [
    "## cashflow table"
   ]
  },
  {
   "cell_type": "code",
   "execution_count": null,
   "id": "engaging-theorem",
   "metadata": {
    "scrolled": true
   },
   "outputs": [],
   "source": [
    "importlib.reload(visualizers)\n",
    "cashflow_dash = visualizers.CashflowVisualizer(2379)\n",
    "cashflow_dash.run_dash()"
   ]
  },
  {
   "cell_type": "code",
   "execution_count": null,
   "id": "desperate-colombia",
   "metadata": {},
   "outputs": [],
   "source": [
    "cashflow_dash.features"
   ]
  },
  {
   "cell_type": "markdown",
   "id": "infinite-paris",
   "metadata": {},
   "source": [
    "## stock price"
   ]
  },
  {
   "cell_type": "code",
   "execution_count": null,
   "id": "referenced-receptor",
   "metadata": {},
   "outputs": [],
   "source": [
    "importlib.reload(visualizers)\n",
    "price_dash = visualizers.PriceVisualizer(2890)\n",
    "price_dash.run_dash()"
   ]
  },
  {
   "cell_type": "code",
   "execution_count": null,
   "id": "fifty-method",
   "metadata": {},
   "outputs": [],
   "source": [
    "price_dash.data"
   ]
  },
  {
   "cell_type": "markdown",
   "id": "undefined-income",
   "metadata": {},
   "source": [
    "## profit loss"
   ]
  },
  {
   "cell_type": "code",
   "execution_count": null,
   "id": "instrumental-survivor",
   "metadata": {},
   "outputs": [],
   "source": [
    "importlib.reload(visualizers)\n",
    "profit_loss_dash = visualizers.ProfitLossVisualizer(2890)\n",
    "profit_loss_dash.run_dash()"
   ]
  },
  {
   "cell_type": "markdown",
   "id": "operational-karma",
   "metadata": {},
   "source": [
    "## asset debt"
   ]
  },
  {
   "cell_type": "code",
   "execution_count": null,
   "id": "billion-shadow",
   "metadata": {},
   "outputs": [],
   "source": [
    "importlib.reload(visualizers)\n",
    "asset_debt_dash = visualizers.AssetDebtVisualizer(6491)\n",
    "asset_debt_dash.run_dash()"
   ]
  },
  {
   "cell_type": "code",
   "execution_count": null,
   "id": "central-mobile",
   "metadata": {},
   "outputs": [],
   "source": []
  }
 ],
 "metadata": {
  "kernelspec": {
   "display_name": "Python 3",
   "language": "python",
   "name": "python3"
  },
  "language_info": {
   "codemirror_mode": {
    "name": "ipython",
    "version": 3
   },
   "file_extension": ".py",
   "mimetype": "text/x-python",
   "name": "python",
   "nbconvert_exporter": "python",
   "pygments_lexer": "ipython3",
   "version": "3.8.2"
  }
 },
 "nbformat": 4,
 "nbformat_minor": 5
}
