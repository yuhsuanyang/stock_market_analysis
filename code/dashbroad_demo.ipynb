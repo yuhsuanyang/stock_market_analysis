{
 "cells": [
  {
   "cell_type": "code",
   "execution_count": 1,
   "id": "known-manual",
   "metadata": {},
   "outputs": [],
   "source": [
    "import pandas as pd\n",
    "\n",
    "import plotly.express as px\n",
    "import plotly.graph_objects as go\n",
    "from plotly.subplots import make_subplots\n",
    "\n",
    "import dash_core_components as dcc\n",
    "import dash_html_components as html\n",
    "from jupyter_dash import JupyterDash\n",
    "from dash.dependencies import Input, Output\n",
    "\n",
    "import config"
   ]
  },
  {
   "cell_type": "code",
   "execution_count": 8,
   "id": "widespread-bhutan",
   "metadata": {},
   "outputs": [],
   "source": [
    "import importlib\n",
    "import visualizers\n",
    "%load_ext autoreload\n",
    "%autoreload 2\n"
   ]
  },
  {
   "cell_type": "code",
   "execution_count": 17,
   "id": "advised-color",
   "metadata": {},
   "outputs": [
    {
     "name": "stderr",
     "output_type": "stream",
     "text": [
      "/Users/darcy/Library/Python/3.8/lib/python/site-packages/jupyter_dash/jupyter_app.py:139: UserWarning:\n",
      "\n",
      "The 'environ['werkzeug.server.shutdown']' function is deprecated and will be removed in Werkzeug 2.1.\n",
      "\n"
     ]
    },
    {
     "name": "stdout",
     "output_type": "stream",
     "text": [
      "Dash app running on http://127.0.0.1:8050/\n"
     ]
    }
   ],
   "source": [
    "importlib.reload(visualizers)\n",
    "cashflow_dash = visualizers.CashflowVisualizer(6116)\n",
    "cashflow_dash.run_dash()"
   ]
  },
  {
   "cell_type": "code",
   "execution_count": 14,
   "id": "virgin-lending",
   "metadata": {},
   "outputs": [
    {
     "data": {
      "text/html": [
       "<div>\n",
       "<style scoped>\n",
       "    .dataframe tbody tr th:only-of-type {\n",
       "        vertical-align: middle;\n",
       "    }\n",
       "\n",
       "    .dataframe tbody tr th {\n",
       "        vertical-align: top;\n",
       "    }\n",
       "\n",
       "    .dataframe thead th {\n",
       "        text-align: right;\n",
       "    }\n",
       "</style>\n",
       "<table border=\"1\" class=\"dataframe\">\n",
       "  <thead>\n",
       "    <tr style=\"text-align: right;\">\n",
       "      <th></th>\n",
       "      <th>季</th>\n",
       "      <th>營運現金流</th>\n",
       "      <th>營業淨現金流</th>\n",
       "      <th>資本支出</th>\n",
       "      <th>投資淨現金流</th>\n",
       "      <th>籌資淨現金流</th>\n",
       "      <th>自由現金流</th>\n",
       "      <th>淨現金流</th>\n",
       "    </tr>\n",
       "  </thead>\n",
       "  <tbody>\n",
       "    <tr>\n",
       "      <th>108_1</th>\n",
       "      <td>108_1</td>\n",
       "      <td>-643371.0</td>\n",
       "      <td>-643328.0</td>\n",
       "      <td>-298618.0</td>\n",
       "      <td>133848.0</td>\n",
       "      <td>-121780.0</td>\n",
       "      <td>-941946.0</td>\n",
       "      <td>-631260.0</td>\n",
       "    </tr>\n",
       "    <tr>\n",
       "      <th>108_2</th>\n",
       "      <td>108_2</td>\n",
       "      <td>1094445.0</td>\n",
       "      <td>662117.0</td>\n",
       "      <td>-443310.0</td>\n",
       "      <td>-470333.0</td>\n",
       "      <td>-161490.0</td>\n",
       "      <td>218807.0</td>\n",
       "      <td>30294.0</td>\n",
       "    </tr>\n",
       "    <tr>\n",
       "      <th>108_3</th>\n",
       "      <td>108_3</td>\n",
       "      <td>523302.0</td>\n",
       "      <td>520684.0</td>\n",
       "      <td>-809482.0</td>\n",
       "      <td>-714059.0</td>\n",
       "      <td>-1012825.0</td>\n",
       "      <td>-288798.0</td>\n",
       "      <td>-1206200.0</td>\n",
       "    </tr>\n",
       "    <tr>\n",
       "      <th>108_4</th>\n",
       "      <td>108_4</td>\n",
       "      <td>1071382.0</td>\n",
       "      <td>960988.0</td>\n",
       "      <td>-811428.0</td>\n",
       "      <td>-571748.0</td>\n",
       "      <td>-123452.0</td>\n",
       "      <td>149560.0</td>\n",
       "      <td>265788.0</td>\n",
       "    </tr>\n",
       "    <tr>\n",
       "      <th>109_1</th>\n",
       "      <td>109_1</td>\n",
       "      <td>-766825.0</td>\n",
       "      <td>-769788.0</td>\n",
       "      <td>-517424.0</td>\n",
       "      <td>1516839.0</td>\n",
       "      <td>337643.0</td>\n",
       "      <td>-1287212.0</td>\n",
       "      <td>1084694.0</td>\n",
       "    </tr>\n",
       "    <tr>\n",
       "      <th>109_2</th>\n",
       "      <td>109_2</td>\n",
       "      <td>491987.0</td>\n",
       "      <td>478384.0</td>\n",
       "      <td>-583813.0</td>\n",
       "      <td>-818757.0</td>\n",
       "      <td>-230041.0</td>\n",
       "      <td>-105429.0</td>\n",
       "      <td>-570414.0</td>\n",
       "    </tr>\n",
       "    <tr>\n",
       "      <th>109_3</th>\n",
       "      <td>109_3</td>\n",
       "      <td>2045538.0</td>\n",
       "      <td>2041102.0</td>\n",
       "      <td>-559009.0</td>\n",
       "      <td>385011.0</td>\n",
       "      <td>-1617383.0</td>\n",
       "      <td>1482093.0</td>\n",
       "      <td>808730.0</td>\n",
       "    </tr>\n",
       "    <tr>\n",
       "      <th>109_4</th>\n",
       "      <td>109_4</td>\n",
       "      <td>3353784.0</td>\n",
       "      <td>3349280.0</td>\n",
       "      <td>-1509448.0</td>\n",
       "      <td>-3741735.0</td>\n",
       "      <td>463801.0</td>\n",
       "      <td>1839832.0</td>\n",
       "      <td>71346.0</td>\n",
       "    </tr>\n",
       "  </tbody>\n",
       "</table>\n",
       "</div>"
      ],
      "text/plain": [
       "           季      營運現金流     營業淨現金流       資本支出     投資淨現金流     籌資淨現金流  \\\n",
       "108_1  108_1  -643371.0  -643328.0  -298618.0   133848.0  -121780.0   \n",
       "108_2  108_2  1094445.0   662117.0  -443310.0  -470333.0  -161490.0   \n",
       "108_3  108_3   523302.0   520684.0  -809482.0  -714059.0 -1012825.0   \n",
       "108_4  108_4  1071382.0   960988.0  -811428.0  -571748.0  -123452.0   \n",
       "109_1  109_1  -766825.0  -769788.0  -517424.0  1516839.0   337643.0   \n",
       "109_2  109_2   491987.0   478384.0  -583813.0  -818757.0  -230041.0   \n",
       "109_3  109_3  2045538.0  2041102.0  -559009.0   385011.0 -1617383.0   \n",
       "109_4  109_4  3353784.0  3349280.0 -1509448.0 -3741735.0   463801.0   \n",
       "\n",
       "           自由現金流       淨現金流  \n",
       "108_1  -941946.0  -631260.0  \n",
       "108_2   218807.0    30294.0  \n",
       "108_3  -288798.0 -1206200.0  \n",
       "108_4   149560.0   265788.0  \n",
       "109_1 -1287212.0  1084694.0  \n",
       "109_2  -105429.0  -570414.0  \n",
       "109_3  1482093.0   808730.0  \n",
       "109_4  1839832.0    71346.0  "
      ]
     },
     "execution_count": 14,
     "metadata": {},
     "output_type": "execute_result"
    }
   ],
   "source": [
    "cashflow_dash.data"
   ]
  },
  {
   "cell_type": "code",
   "execution_count": 21,
   "id": "local-niagara",
   "metadata": {},
   "outputs": [
    {
     "data": {
      "text/plain": [
       "Index(['營運現金流', '營業淨現金流', '資本支出', '投資淨現金流', '籌資淨現金流', '自由現金流', '淨現金流'], dtype='object')"
      ]
     },
     "execution_count": 21,
     "metadata": {},
     "output_type": "execute_result"
    }
   ],
   "source": [
    "cashflow_dash.features"
   ]
  },
  {
   "cell_type": "code",
   "execution_count": null,
   "id": "aware-guatemala",
   "metadata": {},
   "outputs": [],
   "source": []
  }
 ],
 "metadata": {
  "kernelspec": {
   "display_name": "Python 3",
   "language": "python",
   "name": "python3"
  },
  "language_info": {
   "codemirror_mode": {
    "name": "ipython",
    "version": 3
   },
   "file_extension": ".py",
   "mimetype": "text/x-python",
   "name": "python",
   "nbconvert_exporter": "python",
   "pygments_lexer": "ipython3",
   "version": "3.8.2"
  }
 },
 "nbformat": 4,
 "nbformat_minor": 5
}
