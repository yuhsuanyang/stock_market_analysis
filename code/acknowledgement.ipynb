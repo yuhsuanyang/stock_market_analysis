{
 "cells": [
  {
   "cell_type": "code",
   "execution_count": 1,
   "id": "fifty-wheel",
   "metadata": {},
   "outputs": [],
   "source": [
    "import requests\n",
    "import pandas as pd\n",
    "import numpy as np\n",
    "\n"
   ]
  },
  {
   "cell_type": "code",
   "execution_count": 45,
   "id": "standing-packing",
   "metadata": {},
   "outputs": [],
   "source": [
    "urls = {'profit_loss':'https://mops.twse.com.tw/mops/web/ajax_t163sb04', #綜合損益\n",
    "        'asset_debt': 'https://mops.twse.com.tw/mops/web/t163sb05', #資產負債,\n",
    "        'operation_revenue': 'https://mops.twse.com.tw/mops/web/t21sc04_ifrs', #營業收入\n",
    "        'operation_analysis': 'https://mops.twse.com.tw/mops/web/t163sb06', #營業分析\n",
    "        'gross': 'https://mops.twse.com.tw/mops/web/ajax_t163sb07' #毛利率\n",
    "        }"
   ]
  },
  {
   "cell_type": "code",
   "execution_count": 46,
   "id": "respective-timing",
   "metadata": {},
   "outputs": [],
   "source": [
    "year = 109\n",
    "season = 1\n",
    "data_type = 'profit_loss'\n",
    "stock_id = 1455"
   ]
  },
  {
   "cell_type": "code",
   "execution_count": 57,
   "id": "secondary-messenger",
   "metadata": {},
   "outputs": [],
   "source": [
    "def query(year, season, data_type):\n",
    "    r = requests.post(urls[data_type], {\n",
    "        'encodeURIComponent':1,\n",
    "        'step':1,\n",
    "        'firstin':1,\n",
    "        'off':1,\n",
    "        'TYPEK':'sii',\n",
    "        #'co_id':stock_id, \n",
    "        'year':str(year),\n",
    "        'season':str(season),\n",
    "        })\n",
    "    r.encoding = 'utf8'\n",
    "    dfs = pd.read_html(r.text, header=None)\n",
    "    return dfs"
   ]
  },
  {
   "cell_type": "code",
   "execution_count": 49,
   "id": "cooked-boost",
   "metadata": {},
   "outputs": [
    {
     "data": {
      "text/plain": [
       "7"
      ]
     },
     "execution_count": 49,
     "metadata": {},
     "output_type": "execute_result"
    }
   ],
   "source": [
    "len(dfs)"
   ]
  },
  {
   "cell_type": "code",
   "execution_count": 58,
   "id": "thermal-parade",
   "metadata": {},
   "outputs": [],
   "source": [
    "data = []\n",
    "for i in range(1, 5):\n",
    "    data.append(query(109, i, 'profit_loss'))"
   ]
  },
  {
   "cell_type": "code",
   "execution_count": 62,
   "id": "least-backup",
   "metadata": {},
   "outputs": [
    {
     "name": "stdout",
     "output_type": "stream",
     "text": [
      "(10, 1)\n",
      "(11, 22)\n",
      "(3, 22)\n",
      "(905, 30)\n",
      "(14, 22)\n",
      "(7, 23)\n",
      "(4, 18)\n",
      "-------------\n",
      "(10, 1)\n",
      "(11, 22)\n",
      "(3, 22)\n",
      "(909, 30)\n",
      "(14, 22)\n",
      "(7, 23)\n",
      "(4, 18)\n",
      "-------------\n",
      "(10, 1)\n",
      "(11, 22)\n",
      "(3, 22)\n",
      "(909, 30)\n",
      "(14, 22)\n",
      "(7, 23)\n",
      "(4, 18)\n",
      "-------------\n",
      "(10, 1)\n",
      "(11, 22)\n",
      "(3, 22)\n",
      "(911, 30)\n",
      "(14, 22)\n",
      "(7, 23)\n",
      "(4, 18)\n",
      "-------------\n"
     ]
    }
   ],
   "source": [
    "for i in range(4):\n",
    "    for df in data[i]:\n",
    "        print(df.shape)\n",
    "    print('-------------')"
   ]
  },
  {
   "cell_type": "code",
   "execution_count": 107,
   "id": "biological-eight",
   "metadata": {},
   "outputs": [],
   "source": [
    "#one_company = {col: [] for col in columns}\n",
    "company_type = 6\n",
    "one_company = {col: [] for col in data[0][company_type].columns}\n",
    "for i in range(4):\n",
    "    for col in data[0][company_type].columns:\n",
    "        one_company[col].append(data[i][company_type][col][0])\n",
    "    #print(data[i][3]['公司代號'][0])\n",
    "    #x += data[i][3]['營業收入'][0]\n"
   ]
  },
  {
   "cell_type": "code",
   "execution_count": 108,
   "id": "noted-range",
   "metadata": {},
   "outputs": [
    {
     "data": {
      "text/plain": [
       "{'公司代號': [1409, 1409, 1409, 1409],\n",
       " '公司名稱': ['新纖', '新纖', '新纖', '新纖'],\n",
       " '收入': [7744967, 14674968, 22650651, 32128967],\n",
       " '支出': [7326662, 14395837, 21376439, 29811797],\n",
       " '繼續營業單位稅前淨利（淨損）': [418305, 279131, 1274212, 2317170],\n",
       " '所得稅費用（利益）': [110315, 379414, 490198, 718945],\n",
       " '繼續營業單位本期淨利（淨損）': [307990, -100283, 784014, 1598225],\n",
       " '停業單位損益': ['-139890', '1967416', '1977557', '2041659'],\n",
       " '本期淨利（淨損）': [168100, 1867133, 2761571, 3639884],\n",
       " '其他綜合損益': [-1689917, -785526, -1161492, -589993],\n",
       " '本期綜合損益總額': [-1521817, 1081607, 1600079, 3049891],\n",
       " '淨利（淨損）歸屬於母公司業主': [88574, 1493225, 2220441, 2884329],\n",
       " '淨利（淨損）歸屬於共同控制下前手權益': ['--', '--', '--', '--'],\n",
       " '淨利（淨損）歸屬於非控制權益': [79526, 373908, 541130, 755555],\n",
       " '綜合損益總額歸屬於母公司業主': [-1563148, 706801, 1112007, 2338576],\n",
       " '綜合損益總額歸屬於共同控制下前手權益': ['--', '--', '--', '--'],\n",
       " '綜合損益總額歸屬於非控制權益': [41331, 374806, 488072, 711315],\n",
       " '基本每股盈餘（元）': [0.05, 0.93, 1.37, 1.79]}"
      ]
     },
     "execution_count": 108,
     "metadata": {},
     "output_type": "execute_result"
    }
   ],
   "source": [
    "one_company"
   ]
  },
  {
   "cell_type": "code",
   "execution_count": 109,
   "id": "reliable-grocery",
   "metadata": {},
   "outputs": [
    {
     "data": {
      "text/html": [
       "<div>\n",
       "<style scoped>\n",
       "    .dataframe tbody tr th:only-of-type {\n",
       "        vertical-align: middle;\n",
       "    }\n",
       "\n",
       "    .dataframe tbody tr th {\n",
       "        vertical-align: top;\n",
       "    }\n",
       "\n",
       "    .dataframe thead th {\n",
       "        text-align: right;\n",
       "    }\n",
       "</style>\n",
       "<table border=\"1\" class=\"dataframe\">\n",
       "  <thead>\n",
       "    <tr style=\"text-align: right;\">\n",
       "      <th></th>\n",
       "      <th>公司代號</th>\n",
       "      <th>公司名稱</th>\n",
       "      <th>收入</th>\n",
       "      <th>支出</th>\n",
       "      <th>繼續營業單位稅前淨利（淨損）</th>\n",
       "      <th>所得稅費用（利益）</th>\n",
       "      <th>繼續營業單位本期淨利（淨損）</th>\n",
       "      <th>停業單位損益</th>\n",
       "      <th>本期淨利（淨損）</th>\n",
       "      <th>其他綜合損益</th>\n",
       "      <th>本期綜合損益總額</th>\n",
       "      <th>淨利（淨損）歸屬於母公司業主</th>\n",
       "      <th>淨利（淨損）歸屬於共同控制下前手權益</th>\n",
       "      <th>淨利（淨損）歸屬於非控制權益</th>\n",
       "      <th>綜合損益總額歸屬於母公司業主</th>\n",
       "      <th>綜合損益總額歸屬於共同控制下前手權益</th>\n",
       "      <th>綜合損益總額歸屬於非控制權益</th>\n",
       "      <th>基本每股盈餘（元）</th>\n",
       "    </tr>\n",
       "  </thead>\n",
       "  <tbody>\n",
       "    <tr>\n",
       "      <th>0</th>\n",
       "      <td>1409</td>\n",
       "      <td>新纖</td>\n",
       "      <td>32128967</td>\n",
       "      <td>29811797</td>\n",
       "      <td>2317170</td>\n",
       "      <td>718945</td>\n",
       "      <td>1598225</td>\n",
       "      <td>2041659</td>\n",
       "      <td>3639884</td>\n",
       "      <td>-589993</td>\n",
       "      <td>3049891</td>\n",
       "      <td>2884329</td>\n",
       "      <td>--</td>\n",
       "      <td>755555</td>\n",
       "      <td>2338576</td>\n",
       "      <td>--</td>\n",
       "      <td>711315</td>\n",
       "      <td>1.79</td>\n",
       "    </tr>\n",
       "    <tr>\n",
       "      <th>1</th>\n",
       "      <td>1718</td>\n",
       "      <td>中纖</td>\n",
       "      <td>30816399</td>\n",
       "      <td>25895694</td>\n",
       "      <td>4920705</td>\n",
       "      <td>871997</td>\n",
       "      <td>4048708</td>\n",
       "      <td>--</td>\n",
       "      <td>4048708</td>\n",
       "      <td>345080</td>\n",
       "      <td>4393788</td>\n",
       "      <td>942047</td>\n",
       "      <td>--</td>\n",
       "      <td>3106661</td>\n",
       "      <td>1004138</td>\n",
       "      <td>--</td>\n",
       "      <td>3389650</td>\n",
       "      <td>0.73</td>\n",
       "    </tr>\n",
       "    <tr>\n",
       "      <th>2</th>\n",
       "      <td>2207</td>\n",
       "      <td>和泰車</td>\n",
       "      <td>231813269</td>\n",
       "      <td>210688384</td>\n",
       "      <td>21124885</td>\n",
       "      <td>4589675</td>\n",
       "      <td>16535210</td>\n",
       "      <td>--</td>\n",
       "      <td>16535210</td>\n",
       "      <td>725303</td>\n",
       "      <td>17260513</td>\n",
       "      <td>13848870</td>\n",
       "      <td>--</td>\n",
       "      <td>2686340</td>\n",
       "      <td>14536175</td>\n",
       "      <td>--</td>\n",
       "      <td>2724338</td>\n",
       "      <td>25.36</td>\n",
       "    </tr>\n",
       "    <tr>\n",
       "      <th>3</th>\n",
       "      <td>2905</td>\n",
       "      <td>三商</td>\n",
       "      <td>210659310</td>\n",
       "      <td>207487324</td>\n",
       "      <td>3171986</td>\n",
       "      <td>649507</td>\n",
       "      <td>2522479</td>\n",
       "      <td>--</td>\n",
       "      <td>2522479</td>\n",
       "      <td>-2953172</td>\n",
       "      <td>-430693</td>\n",
       "      <td>1397680</td>\n",
       "      <td>--</td>\n",
       "      <td>1124799</td>\n",
       "      <td>72754</td>\n",
       "      <td>--</td>\n",
       "      <td>-503447</td>\n",
       "      <td>1.63</td>\n",
       "    </tr>\n",
       "  </tbody>\n",
       "</table>\n",
       "</div>"
      ],
      "text/plain": [
       "   公司代號 公司名稱         收入         支出  繼續營業單位稅前淨利（淨損）  所得稅費用（利益）  繼續營業單位本期淨利（淨損）  \\\n",
       "0  1409   新纖   32128967   29811797         2317170     718945         1598225   \n",
       "1  1718   中纖   30816399   25895694         4920705     871997         4048708   \n",
       "2  2207  和泰車  231813269  210688384        21124885    4589675        16535210   \n",
       "3  2905   三商  210659310  207487324         3171986     649507         2522479   \n",
       "\n",
       "    停業單位損益  本期淨利（淨損）   其他綜合損益  本期綜合損益總額  淨利（淨損）歸屬於母公司業主 淨利（淨損）歸屬於共同控制下前手權益  \\\n",
       "0  2041659   3639884  -589993   3049891         2884329                 --   \n",
       "1       --   4048708   345080   4393788          942047                 --   \n",
       "2       --  16535210   725303  17260513        13848870                 --   \n",
       "3       --   2522479 -2953172   -430693         1397680                 --   \n",
       "\n",
       "   淨利（淨損）歸屬於非控制權益  綜合損益總額歸屬於母公司業主 綜合損益總額歸屬於共同控制下前手權益  綜合損益總額歸屬於非控制權益  \\\n",
       "0          755555         2338576                 --          711315   \n",
       "1         3106661         1004138                 --         3389650   \n",
       "2         2686340        14536175                 --         2724338   \n",
       "3         1124799           72754                 --         -503447   \n",
       "\n",
       "   基本每股盈餘（元）  \n",
       "0       1.79  \n",
       "1       0.73  \n",
       "2      25.36  \n",
       "3       1.63  "
      ]
     },
     "execution_count": 109,
     "metadata": {},
     "output_type": "execute_result"
    }
   ],
   "source": [
    "data[i][company_type]"
   ]
  },
  {
   "cell_type": "code",
   "execution_count": null,
   "id": "hourly-coaching",
   "metadata": {},
   "outputs": [],
   "source": []
  }
 ],
 "metadata": {
  "kernelspec": {
   "display_name": "Python 3",
   "language": "python",
   "name": "python3"
  },
  "language_info": {
   "codemirror_mode": {
    "name": "ipython",
    "version": 3
   },
   "file_extension": ".py",
   "mimetype": "text/x-python",
   "name": "python",
   "nbconvert_exporter": "python",
   "pygments_lexer": "ipython3",
   "version": "3.8.2"
  }
 },
 "nbformat": 4,
 "nbformat_minor": 5
}
