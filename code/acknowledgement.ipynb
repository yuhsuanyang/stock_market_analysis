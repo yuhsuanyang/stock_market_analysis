{
 "cells": [
  {
   "cell_type": "code",
   "execution_count": 1,
   "id": "mature-tsunami",
   "metadata": {},
   "outputs": [],
   "source": [
    "import requests\n",
    "import pandas as pd\n",
    "import numpy as np\n",
    "\n"
   ]
  },
  {
   "cell_type": "code",
   "execution_count": 45,
   "id": "published-delay",
   "metadata": {},
   "outputs": [],
   "source": [
    "urls = {'profit_loss':'https://mops.twse.com.tw/mops/web/ajax_t163sb04', #綜合損益\n",
    "        'asset_debt': 'https://mops.twse.com.tw/mops/web/t163sb05', #資產負債,\n",
    "        'operation_revenue': 'https://mops.twse.com.tw/mops/web/t21sc04_ifrs', #營業收入\n",
    "        'operation_analysis': 'https://mops.twse.com.tw/mops/web/t163sb06', #營業分析\n",
    "        'gross': 'https://mops.twse.com.tw/mops/web/ajax_t163sb07' #毛利率\n",
    "        }"
   ]
  },
  {
   "cell_type": "code",
   "execution_count": 46,
   "id": "hawaiian-lesbian",
   "metadata": {},
   "outputs": [],
   "source": [
    "year = 109\n",
    "season = 1\n",
    "data_type = 'profit_loss'\n",
    "stock_id = 1455"
   ]
  },
  {
   "cell_type": "code",
   "execution_count": 57,
   "id": "lovely-documentary",
   "metadata": {},
   "outputs": [],
   "source": [
    "def query(year, season, data_type):\n",
    "    r = requests.post(urls[data_type], {\n",
    "        'encodeURIComponent':1,\n",
    "        'step':1,\n",
    "        'firstin':1,\n",
    "        'off':1,\n",
    "        'TYPEK':'sii',\n",
    "        #'co_id':stock_id, \n",
    "        'year':str(year),\n",
    "        'season':str(season),\n",
    "        })\n",
    "    r.encoding = 'utf8'\n",
    "    dfs = pd.read_html(r.text, header=None)\n",
    "    return dfs"
   ]
  },
  {
   "cell_type": "code",
   "execution_count": 49,
   "id": "explicit-scholar",
   "metadata": {},
   "outputs": [
    {
     "data": {
      "text/plain": [
       "7"
      ]
     },
     "execution_count": 49,
     "metadata": {},
     "output_type": "execute_result"
    }
   ],
   "source": [
    "len(dfs)"
   ]
  },
  {
   "cell_type": "code",
   "execution_count": 58,
   "id": "increased-excess",
   "metadata": {},
   "outputs": [],
   "source": [
    "data = []\n",
    "for i in range(1, 5):\n",
    "    data.append(query(109, i, 'profit_loss'))"
   ]
  },
  {
   "cell_type": "code",
   "execution_count": 62,
   "id": "impressive-wright",
   "metadata": {},
   "outputs": [
    {
     "name": "stdout",
     "output_type": "stream",
     "text": [
      "(10, 1)\n",
      "(11, 22)\n",
      "(3, 22)\n",
      "(905, 30)\n",
      "(14, 22)\n",
      "(7, 23)\n",
      "(4, 18)\n",
      "-------------\n",
      "(10, 1)\n",
      "(11, 22)\n",
      "(3, 22)\n",
      "(909, 30)\n",
      "(14, 22)\n",
      "(7, 23)\n",
      "(4, 18)\n",
      "-------------\n",
      "(10, 1)\n",
      "(11, 22)\n",
      "(3, 22)\n",
      "(909, 30)\n",
      "(14, 22)\n",
      "(7, 23)\n",
      "(4, 18)\n",
      "-------------\n",
      "(10, 1)\n",
      "(11, 22)\n",
      "(3, 22)\n",
      "(911, 30)\n",
      "(14, 22)\n",
      "(7, 23)\n",
      "(4, 18)\n",
      "-------------\n"
     ]
    }
   ],
   "source": [
    "for i in range(4):\n",
    "    for df in data[i]:\n",
    "        print(df.shape)\n",
    "    print('-------------')"
   ]
  },
  {
   "cell_type": "code",
   "execution_count": 66,
   "id": "sudden-delta",
   "metadata": {},
   "outputs": [],
   "source": [
    "columns = ['公司代號', '公司名稱', '營業收入', '營業成本', '營業毛利（毛損）', '營業毛利（毛損）淨額',\n",
    "          '營業費用','營業利益（損失）', '營業外收入及支出', '基本每股盈餘（元）']"
   ]
  },
  {
   "cell_type": "code",
   "execution_count": 64,
   "id": "altered-latter",
   "metadata": {},
   "outputs": [
    {
     "data": {
      "text/plain": [
       "Index(['公司代號', '公司名稱', '營業收入', '營業成本', '原始認列生物資產及農產品之利益（損失）',\n",
       "       '生物資產當期公允價值減出售成本之變動利益（損失）', '營業毛利（毛損）', '未實現銷貨（損）益', '已實現銷貨（損）益',\n",
       "       '營業毛利（毛損）淨額', '營業費用', '其他收益及費損淨額', '營業利益（損失）', '營業外收入及支出', '稅前淨利（淨損）',\n",
       "       '所得稅費用（利益）', '繼續營業單位本期淨利（淨損）', '停業單位損益', '合併前非屬共同控制股權損益', '本期淨利（淨損）',\n",
       "       '其他綜合損益（淨額）', '合併前非屬共同控制股權綜合損益淨額', '本期綜合損益總額', '淨利（淨損）歸屬於母公司業主',\n",
       "       '淨利（淨損）歸屬於共同控制下前手權益', '淨利（淨損）歸屬於非控制權益', '綜合損益總額歸屬於母公司業主',\n",
       "       '綜合損益總額歸屬於共同控制下前手權益', '綜合損益總額歸屬於非控制權益', '基本每股盈餘（元）'],\n",
       "      dtype='object')"
      ]
     },
     "execution_count": 64,
     "metadata": {},
     "output_type": "execute_result"
    }
   ],
   "source": [
    "data[0][3].columns"
   ]
  },
  {
   "cell_type": "code",
   "execution_count": 85,
   "id": "indirect-separation",
   "metadata": {},
   "outputs": [],
   "source": [
    "one_company = {col: [] for col in columns}\n",
    "for i in range(4):\n",
    "    for col in columns:\n",
    "        one_company[col].append(data[i][3][col][435])\n",
    "    #print(data[i][3]['公司代號'][0])\n",
    "    #x += data[i][3]['營業收入'][0]\n"
   ]
  },
  {
   "cell_type": "code",
   "execution_count": 86,
   "id": "mediterranean-mustang",
   "metadata": {},
   "outputs": [
    {
     "data": {
      "text/plain": [
       "{'公司代號': [2617, 2616, 2616, 2616],\n",
       " '公司名稱': ['台航', '山隆', '山隆', '山隆'],\n",
       " '營業收入': [629948, 7674015, 11871557, 15955500],\n",
       " '營業成本': [499209, 6856668, 10577241, 14211824],\n",
       " '營業毛利（毛損）': [130739, 817347, 1294316, 1743676],\n",
       " '營業毛利（毛損）淨額': [130739, 817347, 1294316, 1743676],\n",
       " '營業費用': [32113, 651622, 999461, 1356527],\n",
       " '營業利益（損失）': [98626, 165725, 294855, 387149],\n",
       " '營業外收入及支出': [81901, 14502, 86606, 75992],\n",
       " '基本每股盈餘（元）': [0.39, 1.01, 2.28, 2.73]}"
      ]
     },
     "execution_count": 86,
     "metadata": {},
     "output_type": "execute_result"
    }
   ],
   "source": [
    "one_company"
   ]
  },
  {
   "cell_type": "code",
   "execution_count": null,
   "id": "authorized-bridal",
   "metadata": {},
   "outputs": [],
   "source": []
  }
 ],
 "metadata": {
  "kernelspec": {
   "display_name": "Python 3",
   "language": "python",
   "name": "python3"
  },
  "language_info": {
   "codemirror_mode": {
    "name": "ipython",
    "version": 3
   },
   "file_extension": ".py",
   "mimetype": "text/x-python",
   "name": "python",
   "nbconvert_exporter": "python",
   "pygments_lexer": "ipython3",
   "version": "3.8.2"
  }
 },
 "nbformat": 4,
 "nbformat_minor": 5
}
