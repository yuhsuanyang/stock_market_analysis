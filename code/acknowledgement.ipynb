{
 "cells": [
  {
   "cell_type": "code",
   "execution_count": null,
   "id": "fifty-wheel",
   "metadata": {},
   "outputs": [],
   "source": [
    "import os\n",
    "import time\n",
    "import pickle\n",
    "import requests\n",
    "import numpy as np\n",
    "import pandas as pd\n",
    "import matplotlib.pyplot as plt\n",
    "\n",
    "import config\n",
    "from crawler import *\n",
    "\n",
    "%load_ext autoreload\n",
    "%autoreload 2"
   ]
  },
  {
   "cell_type": "markdown",
   "id": "protective-theology",
   "metadata": {},
   "source": [
    "# crawler functions"
   ]
  },
  {
   "cell_type": "code",
   "execution_count": null,
   "id": "sunset-advocate",
   "metadata": {},
   "outputs": [],
   "source": [
    "!python3 crawler.py --target meta_data"
   ]
  },
  {
   "cell_type": "code",
   "execution_count": null,
   "id": "mounted-occupation",
   "metadata": {},
   "outputs": [],
   "source": [
    "!python3 crawler.py --target asset_debt"
   ]
  },
  {
   "cell_type": "code",
   "execution_count": null,
   "id": "blank-garbage",
   "metadata": {},
   "outputs": [],
   "source": [
    "!python3 crawler.py --target profit_loss"
   ]
  },
  {
   "cell_type": "code",
   "execution_count": null,
   "id": "christian-skiing",
   "metadata": {},
   "outputs": [],
   "source": [
    "!python3 crawler.py --target dividend"
   ]
  },
  {
   "cell_type": "code",
   "execution_count": null,
   "id": "southern-custody",
   "metadata": {},
   "outputs": [],
   "source": [
    "!python3 crawler.py --target price"
   ]
  },
  {
   "cell_type": "code",
   "execution_count": null,
   "id": "representative-least",
   "metadata": {},
   "outputs": [],
   "source": [
    "!python3 crawler.py --target cashflow --year 109 --previous"
   ]
  },
  {
   "cell_type": "markdown",
   "id": "proprietary-quick",
   "metadata": {},
   "source": [
    "# view_data"
   ]
  },
  {
   "cell_type": "code",
   "execution_count": null,
   "id": "streaming-symbol",
   "metadata": {},
   "outputs": [],
   "source": [
    "previous = pickle.load(open('../data_sample/cashflow_tmp_105.pkl', 'rb'))#.keys()\n",
    "len(previous)"
   ]
  },
  {
   "cell_type": "code",
   "execution_count": null,
   "id": "thorough-european",
   "metadata": {
    "scrolled": false
   },
   "outputs": [],
   "source": [
    "code = 4906\n",
    "year = 105\n",
    "query_mops(year, 'cash_flow', code, 2)"
   ]
  },
  {
   "cell_type": "code",
   "execution_count": null,
   "id": "intensive-suffering",
   "metadata": {},
   "outputs": [],
   "source": [
    "meta_data = get_stock_meta_data()"
   ]
  },
  {
   "cell_type": "code",
   "execution_count": null,
   "id": "civil-shuttle",
   "metadata": {},
   "outputs": [],
   "source": [
    "pd.set_option('display.max_rows', None)\n",
    "meta_data"
   ]
  },
  {
   "cell_type": "code",
   "execution_count": null,
   "id": "underlying-unemployment",
   "metadata": {},
   "outputs": [],
   "source": [
    "meta_data.to_csv('../data_sample/stock_meta_data.csv', index=False)"
   ]
  },
  {
   "cell_type": "code",
   "execution_count": null,
   "id": "eligible-carolina",
   "metadata": {},
   "outputs": [],
   "source": [
    "data, _ = query_mops(109, 'profit_loss')\n",
    "\n",
    "# data[i][j]\n",
    "# i: season\n",
    "# j:\n",
    "#    1: bank\n",
    "#    3: standard\n",
    "#    4: holdings\n",
    "#    5: insurance\n",
    "#    6: other "
   ]
  },
  {
   "cell_type": "code",
   "execution_count": null,
   "id": "blank-memorabilia",
   "metadata": {},
   "outputs": [],
   "source": [
    "\n",
    "norm = merge_by_season_per_year(data[0], config.profit_loss_col['standard'], 3, 109)\n",
    "norm"
   ]
  },
  {
   "cell_type": "code",
   "execution_count": null,
   "id": "technical-pizza",
   "metadata": {
    "scrolled": true
   },
   "outputs": [],
   "source": [
    "dividend = query_dividend(6491)\n",
    "dividend"
   ]
  },
  {
   "cell_type": "code",
   "execution_count": null,
   "id": "underlying-cornell",
   "metadata": {},
   "outputs": [],
   "source": [
    "previous[i] = summary_cashflow(financial, 105, season)\n",
    "previous[i]"
   ]
  },
  {
   "cell_type": "code",
   "execution_count": null,
   "id": "unable-stuff",
   "metadata": {},
   "outputs": [],
   "source": [
    "len(previous)"
   ]
  },
  {
   "cell_type": "code",
   "execution_count": null,
   "id": "emotional-ridge",
   "metadata": {},
   "outputs": [],
   "source": [
    "stocks = pd.read_csv('../data_sample/stock_meta_data.csv')\n",
    "stocks"
   ]
  },
  {
   "cell_type": "code",
   "execution_count": null,
   "id": "reported-buffer",
   "metadata": {},
   "outputs": [],
   "source": [
    "previous = pickle.load(open('../data_sample/cashflow_tmp_105.pkl', 'rb'))#.keys()\n",
    "len(previous)"
   ]
  },
  {
   "cell_type": "code",
   "execution_count": null,
   "id": "adjusted-sculpture",
   "metadata": {},
   "outputs": [],
   "source": [
    "previous[1341]"
   ]
  },
  {
   "cell_type": "code",
   "execution_count": null,
   "id": "extreme-group",
   "metadata": {
    "scrolled": false
   },
   "outputs": [],
   "source": [
    "for i in stocks.code:\n",
    "    if i not in previous:\n",
    "        print(i)\n",
    "        df, seasons = query_mops(105, 'cash_flow', i, 2)\n",
    "        if len(df):\n",
    "            previous[i] = summary_cashflow(df, 105, seasons)\n",
    "        time.sleep(20)        "
   ]
  },
  {
   "cell_type": "code",
   "execution_count": null,
   "id": "frank-amino",
   "metadata": {
    "scrolled": true
   },
   "outputs": [],
   "source": [
    "for i in previous:\n",
    "    if len(previous[i]) != 4:\n",
    "        print(i, len(previous[i]))\n",
    "#         df, seasons = query_mops(105, 'cash_flow', i, 2)\n",
    "#         previous[i] = summary_cashflow(df, 105, seasons)\n",
    "#         time.sleep(20)"
   ]
  },
  {
   "cell_type": "code",
   "execution_count": null,
   "id": "australian-google",
   "metadata": {},
   "outputs": [],
   "source": [
    "previous[8442]"
   ]
  },
  {
   "cell_type": "code",
   "execution_count": null,
   "id": "overhead-structure",
   "metadata": {},
   "outputs": [],
   "source": [
    "with open(f'../data_sample/cashflow_tmp_105.pkl', 'wb') as f:\n",
    "    pickle.dump(previous1, f)"
   ]
  },
  {
   "cell_type": "code",
   "execution_count": null,
   "id": "material-exemption",
   "metadata": {},
   "outputs": [],
   "source": [
    "cols = list(config.cashflow_col.keys())\n",
    "cols"
   ]
  },
  {
   "cell_type": "code",
   "execution_count": null,
   "id": "increased-consolidation",
   "metadata": {},
   "outputs": [],
   "source": [
    "targets = [2330, 2379]\n",
    "stock_list = '|'.join('tse_{}.tw'.format(target) for target in targets) \n",
    "    \n",
    "    #　query data\n",
    "    \n",
    "query_url = \"http://mis.twse.com.tw/stock/api/getStockInfo.jsp?ex_ch=\"+ stock_list\n",
    "print(query_url)"
   ]
  },
  {
   "cell_type": "code",
   "execution_count": null,
   "id": "mounted-malaysia",
   "metadata": {},
   "outputs": [],
   "source": [
    "data = pd.read_csv(f'../data_sample/asset_debt/standard_asset_debt.csv', header=[0, 1])\n",
    "data[[(f'109_{i}', '資產總額') for i in range(1, 5)]].iloc[0:10]"
   ]
  },
  {
   "cell_type": "code",
   "execution_count": null,
   "id": "opening-evolution",
   "metadata": {},
   "outputs": [],
   "source": [
    "data = pd.read_csv(f'../data_sample/profit_loss/standard_profit_loss.csv', header=[0, 1])\n",
    "data[[(f'105_{i}', '稅後淨利') for i in range(1, 5)]].iloc[0:10]"
   ]
  },
  {
   "cell_type": "code",
   "execution_count": null,
   "id": "caring-anger",
   "metadata": {},
   "outputs": [],
   "source": [
    "previous1 = {k: previous[k] for k in sorted(list(previous.keys()))}"
   ]
  },
  {
   "cell_type": "code",
   "execution_count": null,
   "id": "selected-geometry",
   "metadata": {},
   "outputs": [],
   "source": [
    "os.listdir('../data_sample/profit_loss')"
   ]
  },
  {
   "cell_type": "code",
   "execution_count": null,
   "id": "strategic-dubai",
   "metadata": {},
   "outputs": [],
   "source": [
    "company_type = []\n",
    "for file in os.listdir('../data_sample/profit_loss'):\n",
    "    if file == '.DS_Store':\n",
    "        continue\n",
    "    company_type_name = file.split('_')[0]\n",
    "    data = pd.read_csv(f'../data_sample/profit_loss/{file}', header=[0, 1])\n",
    "    for id_ in data['year']['code']:\n",
    "        company_type.append([id_, company_type_name])\n",
    "company_type = pd.DataFrame(company_type, columns=['code', 'company_type'])\n",
    "company_type"
   ]
  },
  {
   "cell_type": "code",
   "execution_count": null,
   "id": "improving-transmission",
   "metadata": {},
   "outputs": [],
   "source": [
    "pd.set_option('display.max_rows', None)\n",
    "stocks = stocks.merge(company_type, on='code', how='left').fillna('standard')\n",
    "stocks.to_csv('../data_sample/stock_meta_data.csv', index=False)"
   ]
  },
  {
   "cell_type": "code",
   "execution_count": null,
   "id": "contrary-coordinator",
   "metadata": {},
   "outputs": [],
   "source": [
    "stock_code = 2330\n",
    "url = f\"https://tw.stock.yahoo.com/d/s/dividend_{stock_code}.html\"\n",
    "df = pd.read_html(url, encoding='cp950')[3][[0, 1, 2, 5, 6]]\n",
    "df"
   ]
  },
  {
   "cell_type": "code",
   "execution_count": null,
   "id": "reserved-consideration",
   "metadata": {},
   "outputs": [],
   "source": [
    "query_dividend(2330)"
   ]
  },
  {
   "cell_type": "code",
   "execution_count": null,
   "id": "isolated-phase",
   "metadata": {},
   "outputs": [],
   "source": [
    "data = pickle.load(open('../data_sample/dividend.pkl', 'rb'))"
   ]
  },
  {
   "cell_type": "code",
   "execution_count": null,
   "id": "appropriate-pittsburgh",
   "metadata": {},
   "outputs": [],
   "source": [
    "data[8021] = query_dividend(8021)"
   ]
  },
  {
   "cell_type": "code",
   "execution_count": null,
   "id": "physical-verse",
   "metadata": {},
   "outputs": [],
   "source": [
    "save('dividend.pkl', data)"
   ]
  },
  {
   "cell_type": "code",
   "execution_count": null,
   "id": "subsequent-villa",
   "metadata": {},
   "outputs": [],
   "source": []
  }
 ],
 "metadata": {
  "kernelspec": {
   "display_name": "Python 3",
   "language": "python",
   "name": "python3"
  },
  "language_info": {
   "codemirror_mode": {
    "name": "ipython",
    "version": 3
   },
   "file_extension": ".py",
   "mimetype": "text/x-python",
   "name": "python",
   "nbconvert_exporter": "python",
   "pygments_lexer": "ipython3",
   "version": "3.8.2"
  }
 },
 "nbformat": 4,
 "nbformat_minor": 5
}
